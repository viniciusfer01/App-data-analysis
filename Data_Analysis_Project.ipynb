{
 "cells": [
  {
   "cell_type": "markdown",
   "id": "754ea1fb",
   "metadata": {},
   "source": [
    "# App data analysis\n",
    "\n",
    "    In this project, we are interested in analysing app data to discover which type of app is more likely to attract users."
   ]
  },
  {
   "cell_type": "code",
   "execution_count": 2,
   "id": "769a884d",
   "metadata": {},
   "outputs": [],
   "source": [
    "### reading Google Play's dataset\n",
    "from csv import reader\n",
    "opened_file = open('googleplaystore.csv', encoding=\"utf8\")\n",
    "read_file = reader(opened_file)\n",
    "android_data = list(read_file)\n",
    "android_header = android_data[0]\n",
    "android_data = android_data[1:]"
   ]
  },
  {
   "cell_type": "code",
   "execution_count": 3,
   "id": "1c8ffda1",
   "metadata": {},
   "outputs": [],
   "source": [
    "### reading Apple Store's dataset\n",
    "from csv import reader\n",
    "opened_file = open('AppleStore.csv', encoding=\"utf8\")\n",
    "read_file = reader(opened_file)\n",
    "ios_data = list(read_file)\n",
    "ios_header = ios_data[0]\n",
    "ios_data = ios_data[1:]"
   ]
  },
  {
   "cell_type": "code",
   "execution_count": 5,
   "id": "8a3595cb",
   "metadata": {},
   "outputs": [],
   "source": [
    "## Function that prints dataset in a pretty way\n",
    "def explore_data(dataset, start, end, rows_and_columns=False):\n",
    "    dataset_slice = dataset[start:end]    \n",
    "    for row in dataset_slice:\n",
    "        print(row)\n",
    "        print('\\n') # adds a new (empty) line after each row\n",
    "\n",
    "    if rows_and_columns:\n",
    "        print('Number of rows:', len(dataset))\n",
    "        print('Number of columns:', len(dataset[0]))"
   ]
  },
  {
   "cell_type": "code",
   "execution_count": 6,
   "id": "e16d6ce3",
   "metadata": {},
   "outputs": [
    {
     "name": "stdout",
     "output_type": "stream",
     "text": [
      "['Photo Editor & Candy Camera & Grid & ScrapBook', 'ART_AND_DESIGN', '4.1', '159', '19M', '10,000+', 'Free', '0', 'Everyone', 'Art & Design', 'January 7, 2018', '1.0.0', '4.0.3 and up']\n",
      "\n",
      "\n",
      "['Coloring book moana', 'ART_AND_DESIGN', '3.9', '967', '14M', '500,000+', 'Free', '0', 'Everyone', 'Art & Design;Pretend Play', 'January 15, 2018', '2.0.0', '4.0.3 and up']\n",
      "\n",
      "\n",
      "['U Launcher Lite – FREE Live Cool Themes, Hide Apps', 'ART_AND_DESIGN', '4.7', '87510', '8.7M', '5,000,000+', 'Free', '0', 'Everyone', 'Art & Design', 'August 1, 2018', '1.2.4', '4.0.3 and up']\n",
      "\n",
      "\n",
      "['Sketch - Draw & Paint', 'ART_AND_DESIGN', '4.5', '215644', '25M', '50,000,000+', 'Free', '0', 'Teen', 'Art & Design', 'June 8, 2018', 'Varies with device', '4.2 and up']\n",
      "\n",
      "\n",
      "Number of rows: 10841\n",
      "Number of columns: 13\n"
     ]
    }
   ],
   "source": [
    "explore_data(android_data, 0, 4, True)"
   ]
  },
  {
   "cell_type": "code",
   "execution_count": 7,
   "id": "e21cfe25",
   "metadata": {},
   "outputs": [
    {
     "name": "stdout",
     "output_type": "stream",
     "text": [
      "['284882215', 'Facebook', '389879808', 'USD', '0.0', '2974676', '212', '3.5', '3.5', '95.0', '4+', 'Social Networking', '37', '1', '29', '1']\n",
      "\n",
      "\n",
      "['389801252', 'Instagram', '113954816', 'USD', '0.0', '2161558', '1289', '4.5', '4.0', '10.23', '12+', 'Photo & Video', '37', '0', '29', '1']\n",
      "\n",
      "\n",
      "['529479190', 'Clash of Clans', '116476928', 'USD', '0.0', '2130805', '579', '4.5', '4.5', '9.24.12', '9+', 'Games', '38', '5', '18', '1']\n",
      "\n",
      "\n",
      "['420009108', 'Temple Run', '65921024', 'USD', '0.0', '1724546', '3842', '4.5', '4.0', '1.6.2', '9+', 'Games', '40', '5', '1', '1']\n",
      "\n",
      "\n",
      "Number of rows: 7197\n",
      "Number of columns: 16\n"
     ]
    }
   ],
   "source": [
    "explore_data(ios_data, 0, 4, True)"
   ]
  },
  {
   "cell_type": "markdown",
   "id": "6da56c2a",
   "metadata": {},
   "source": [
    "Looking at the Google Play dataset's [*Discussions*](https://www.kaggle.com/lava18/google-play-store-apps/discussion) some problems have come to my attention. There are:\n",
    "    - A wrong entrie on the 10472 row\n",
    "    - Multiple entries for the same app:"
   ]
  },
  {
   "cell_type": "code",
   "execution_count": 8,
   "id": "c08473c0",
   "metadata": {},
   "outputs": [
    {
     "name": "stdout",
     "output_type": "stream",
     "text": [
      "['App', 'Category', 'Rating', 'Reviews', 'Size', 'Installs', 'Type', 'Price', 'Content Rating', 'Genres', 'Last Updated', 'Current Ver', 'Android Ver']\n"
     ]
    }
   ],
   "source": [
    "print(ios_header)"
   ]
  },
  {
   "cell_type": "code",
   "execution_count": 9,
   "id": "b1a1ac9d",
   "metadata": {},
   "outputs": [
    {
     "name": "stdout",
     "output_type": "stream",
     "text": [
      "['id', 'track_name', 'size_bytes', 'currency', 'price', 'rating_count_tot', 'rating_count_ver', 'user_rating', 'user_rating_ver', 'ver', 'cont_rating', 'prime_genre', 'sup_devices.num', 'ipadSc_urls.num', 'lang.num', 'vpp_lic']\n"
     ]
    }
   ],
   "source": [
    "print(android_header)"
   ]
  },
  {
   "cell_type": "code",
   "execution_count": 11,
   "id": "92072ae7",
   "metadata": {},
   "outputs": [
    {
     "name": "stdout",
     "output_type": "stream",
     "text": [
      "['Life Made WI-Fi Touchscreen Photo Frame', '1.9', '19', '3.0M', '1,000+', 'Free', '0', 'Everyone', '', 'February 11, 2018', '1.0.19', '4.0 and up']\n"
     ]
    }
   ],
   "source": [
    "print(android_data[10472])"
   ]
  },
  {
   "cell_type": "code",
   "execution_count": 13,
   "id": "57f22584",
   "metadata": {},
   "outputs": [
    {
     "name": "stdout",
     "output_type": "stream",
     "text": [
      "['osmino Wi-Fi: free WiFi', 'TOOLS', '4.2', '134203', '4.1M', '10,000,000+', 'Free', '0', 'Everyone', 'Tools', 'August 7, 2018', '6.06.14', '4.4 and up']\n"
     ]
    }
   ],
   "source": [
    "print(android_data[10473])"
   ]
  },
  {
   "cell_type": "code",
   "execution_count": 14,
   "id": "e41dfe99",
   "metadata": {},
   "outputs": [],
   "source": [
    "del android_data[10472]"
   ]
  },
  {
   "cell_type": "markdown",
   "id": "4eaff246",
   "metadata": {},
   "source": [
    "Let me show you an exemple of multiple entries:"
   ]
  },
  {
   "cell_type": "code",
   "execution_count": 11,
   "id": "3f1c35ea",
   "metadata": {},
   "outputs": [
    {
     "name": "stdout",
     "output_type": "stream",
     "text": [
      "Amount of unique apps 9660\n",
      "Amount of duplicate entries: 1181\n"
     ]
    }
   ],
   "source": [
    "unique_app_names = []\n",
    "duplicate_app_names = {}\n",
    "\n",
    "for app in android_data:\n",
    "    app_name = app[0]\n",
    "    if not app_name in unique_app_names:\n",
    "        unique_app_names.append(app_name)\n",
    "    elif not app_name in duplicate_app_names:\n",
    "        duplicate_app_names[app_name] = 1\n",
    "    else:\n",
    "        duplicate_app_names[app_name] += 1\n",
    "unique_app_amount = len(unique_app_names)\n",
    "total_app_amount = len(android_data)\n",
    "\n",
    "print(\"Amount of unique apps \" + str(unique_app_amount))\n",
    "print(\"Amount of duplicate entries: \" + str(total_app_amount - unique_app_amount))\n"
   ]
  },
  {
   "cell_type": "markdown",
   "id": "80071c8b",
   "metadata": {},
   "source": [
    "To remove the duplicate entries, we are going to consider which entry has the most ratings and delete the rest. The reason for that is the entry with most ratings is likely to be the most recent one."
   ]
  },
  {
   "cell_type": "code",
   "execution_count": null,
   "id": "dbdb14d8",
   "metadata": {},
   "outputs": [],
   "source": []
  }
 ],
 "metadata": {
  "kernelspec": {
   "display_name": "Python 3 (ipykernel)",
   "language": "python",
   "name": "python3"
  },
  "language_info": {
   "codemirror_mode": {
    "name": "ipython",
    "version": 3
   },
   "file_extension": ".py",
   "mimetype": "text/x-python",
   "name": "python",
   "nbconvert_exporter": "python",
   "pygments_lexer": "ipython3",
   "version": "3.9.12"
  }
 },
 "nbformat": 4,
 "nbformat_minor": 5
}
