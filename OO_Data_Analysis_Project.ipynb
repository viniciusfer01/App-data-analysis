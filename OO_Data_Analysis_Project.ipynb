{
 "cells": [
  {
   "cell_type": "markdown",
   "id": "754ea1fb",
   "metadata": {},
   "source": [
    "# App data analysis\n",
    "\n",
    "    In this project, we are interested in coverting the functional solution from the 'Data_Analysis_Project' file to an object oriented solution."
   ]
  },
  {
   "cell_type": "code",
   "execution_count": 18,
   "id": "769a884d",
   "metadata": {},
   "outputs": [
    {
     "name": "stdout",
     "output_type": "stream",
     "text": [
      "['App', 'Category', 'Rating', 'Reviews', 'Size', 'Installs', 'Type', 'Price', 'Content Rating', 'Genres', 'Last Updated', 'Current Ver', 'Android Ver']\n",
      "['id', 'track_name', 'size_bytes', 'currency', 'price', 'rating_count_tot', 'rating_count_ver', 'user_rating', 'user_rating_ver', 'ver', 'cont_rating', 'prime_genre', 'sup_devices.num', 'ipadSc_urls.num', 'lang.num', 'vpp_lic']\n"
     ]
    }
   ],
   "source": [
    "from csv import reader\n",
    "\n",
    "\n",
    "class DataManager():\n",
    "    ### reads Google Play's dataset\n",
    "    def handle_data(self, dataset):\n",
    "        opened_file = open(dataset, encoding=\"utf8\")\n",
    "        read_file = reader(opened_file)\n",
    "        data = list(read_file)\n",
    "        self.data_header = data[0]\n",
    "        self.dataset = data[1:]\n",
    "        \n",
    "    ## Function that prints dataset in a pretty way\n",
    "    def explore_data(self, start, end, rows_and_columns=False):\n",
    "        dataset_slice = self.dataset[start:end]    \n",
    "        for row in dataset_slice:\n",
    "            print(row)\n",
    "            print('\\n') # adds a new (empty) line after each row\n",
    "\n",
    "        if rows_and_columns:\n",
    "            print('Number of rows:', len(dataset))\n",
    "            print('Number of columns:', len(dataset[0]))\n",
    "    \n",
    "DM = DataManager()\n",
    "DM.handle_data('googleplaystore.csv')\n",
    "print(DM.data_header)\n",
    "\n",
    "DM2 = DataManager()\n",
    "DM2.handle_data('AppleStore.csv')\n",
    "print(DM2.data_header)"
   ]
  },
  {
   "cell_type": "code",
   "execution_count": 19,
   "id": "e16d6ce3",
   "metadata": {},
   "outputs": [
    {
     "name": "stdout",
     "output_type": "stream",
     "text": [
      "['Photo Editor & Candy Camera & Grid & ScrapBook', 'ART_AND_DESIGN', '4.1', '159', '19M', '10,000+', 'Free', '0', 'Everyone', 'Art & Design', 'January 7, 2018', '1.0.0', '4.0.3 and up']\n",
      "\n",
      "\n",
      "['Coloring book moana', 'ART_AND_DESIGN', '3.9', '967', '14M', '500,000+', 'Free', '0', 'Everyone', 'Art & Design;Pretend Play', 'January 15, 2018', '2.0.0', '4.0.3 and up']\n",
      "\n",
      "\n",
      "['U Launcher Lite – FREE Live Cool Themes, Hide Apps', 'ART_AND_DESIGN', '4.7', '87510', '8.7M', '5,000,000+', 'Free', '0', 'Everyone', 'Art & Design', 'August 1, 2018', '1.2.4', '4.0.3 and up']\n",
      "\n",
      "\n",
      "['Sketch - Draw & Paint', 'ART_AND_DESIGN', '4.5', '215644', '25M', '50,000,000+', 'Free', '0', 'Teen', 'Art & Design', 'June 8, 2018', 'Varies with device', '4.2 and up']\n",
      "\n",
      "\n"
     ]
    },
    {
     "ename": "NameError",
     "evalue": "name 'dataset' is not defined",
     "output_type": "error",
     "traceback": [
      "\u001b[1;31m---------------------------------------------------------------------------\u001b[0m",
      "\u001b[1;31mNameError\u001b[0m                                 Traceback (most recent call last)",
      "Input \u001b[1;32mIn [19]\u001b[0m, in \u001b[0;36m<cell line: 1>\u001b[1;34m()\u001b[0m\n\u001b[1;32m----> 1\u001b[0m \u001b[43mDM\u001b[49m\u001b[38;5;241;43m.\u001b[39;49m\u001b[43mexplore_data\u001b[49m\u001b[43m(\u001b[49m\u001b[38;5;241;43m0\u001b[39;49m\u001b[43m,\u001b[49m\u001b[43m \u001b[49m\u001b[38;5;241;43m4\u001b[39;49m\u001b[43m,\u001b[49m\u001b[43m \u001b[49m\u001b[38;5;28;43;01mTrue\u001b[39;49;00m\u001b[43m)\u001b[49m\n",
      "Input \u001b[1;32mIn [18]\u001b[0m, in \u001b[0;36mDataManager.explore_data\u001b[1;34m(self, start, end, rows_and_columns)\u001b[0m\n\u001b[0;32m     18\u001b[0m     \u001b[38;5;28mprint\u001b[39m(\u001b[38;5;124m'\u001b[39m\u001b[38;5;130;01m\\n\u001b[39;00m\u001b[38;5;124m'\u001b[39m) \u001b[38;5;66;03m# adds a new (empty) line after each row\u001b[39;00m\n\u001b[0;32m     20\u001b[0m \u001b[38;5;28;01mif\u001b[39;00m rows_and_columns:\n\u001b[1;32m---> 21\u001b[0m     \u001b[38;5;28mprint\u001b[39m(\u001b[38;5;124m'\u001b[39m\u001b[38;5;124mNumber of rows:\u001b[39m\u001b[38;5;124m'\u001b[39m, \u001b[38;5;28mlen\u001b[39m(\u001b[43mdataset\u001b[49m))\n\u001b[0;32m     22\u001b[0m     \u001b[38;5;28mprint\u001b[39m(\u001b[38;5;124m'\u001b[39m\u001b[38;5;124mNumber of columns:\u001b[39m\u001b[38;5;124m'\u001b[39m, \u001b[38;5;28mlen\u001b[39m(dataset[\u001b[38;5;241m0\u001b[39m]))\n",
      "\u001b[1;31mNameError\u001b[0m: name 'dataset' is not defined"
     ]
    }
   ],
   "source": [
    "DM.explore_data(0, 4, True)"
   ]
  },
  {
   "cell_type": "code",
   "execution_count": 7,
   "id": "e21cfe25",
   "metadata": {},
   "outputs": [
    {
     "name": "stdout",
     "output_type": "stream",
     "text": [
      "['284882215', 'Facebook', '389879808', 'USD', '0.0', '2974676', '212', '3.5', '3.5', '95.0', '4+', 'Social Networking', '37', '1', '29', '1']\n",
      "\n",
      "\n",
      "['389801252', 'Instagram', '113954816', 'USD', '0.0', '2161558', '1289', '4.5', '4.0', '10.23', '12+', 'Photo & Video', '37', '0', '29', '1']\n",
      "\n",
      "\n",
      "['529479190', 'Clash of Clans', '116476928', 'USD', '0.0', '2130805', '579', '4.5', '4.5', '9.24.12', '9+', 'Games', '38', '5', '18', '1']\n",
      "\n",
      "\n",
      "['420009108', 'Temple Run', '65921024', 'USD', '0.0', '1724546', '3842', '4.5', '4.0', '1.6.2', '9+', 'Games', '40', '5', '1', '1']\n",
      "\n",
      "\n",
      "Number of rows: 7197\n",
      "Number of columns: 16\n"
     ]
    }
   ],
   "source": [
    "explore_data(ios_data, 0, 4, True)"
   ]
  },
  {
   "cell_type": "markdown",
   "id": "6da56c2a",
   "metadata": {},
   "source": [
    "Looking at the Google Play dataset's [*Discussions*](https://www.kaggle.com/lava18/google-play-store-apps/discussion) some problems have come to my attention. There are:\n",
    "    - A wrong entrie on the 10472 row\n",
    "    - Multiple entries for the same app:"
   ]
  },
  {
   "cell_type": "code",
   "execution_count": 8,
   "id": "c08473c0",
   "metadata": {},
   "outputs": [
    {
     "name": "stdout",
     "output_type": "stream",
     "text": [
      "['id', 'track_name', 'size_bytes', 'currency', 'price', 'rating_count_tot', 'rating_count_ver', 'user_rating', 'user_rating_ver', 'ver', 'cont_rating', 'prime_genre', 'sup_devices.num', 'ipadSc_urls.num', 'lang.num', 'vpp_lic']\n"
     ]
    }
   ],
   "source": [
    "print(ios_header)"
   ]
  },
  {
   "cell_type": "code",
   "execution_count": 5,
   "id": "b1a1ac9d",
   "metadata": {},
   "outputs": [
    {
     "name": "stdout",
     "output_type": "stream",
     "text": [
      "['App', 'Category', 'Rating', 'Reviews', 'Size', 'Installs', 'Type', 'Price', 'Content Rating', 'Genres', 'Last Updated', 'Current Ver', 'Android Ver']\n"
     ]
    }
   ],
   "source": [
    "print(android_header)"
   ]
  },
  {
   "cell_type": "code",
   "execution_count": 11,
   "id": "92072ae7",
   "metadata": {},
   "outputs": [
    {
     "name": "stdout",
     "output_type": "stream",
     "text": [
      "['Life Made WI-Fi Touchscreen Photo Frame', '1.9', '19', '3.0M', '1,000+', 'Free', '0', 'Everyone', '', 'February 11, 2018', '1.0.19', '4.0 and up']\n"
     ]
    }
   ],
   "source": [
    "print(android_data[10472])"
   ]
  },
  {
   "cell_type": "code",
   "execution_count": 13,
   "id": "57f22584",
   "metadata": {},
   "outputs": [
    {
     "name": "stdout",
     "output_type": "stream",
     "text": [
      "['osmino Wi-Fi: free WiFi', 'TOOLS', '4.2', '134203', '4.1M', '10,000,000+', 'Free', '0', 'Everyone', 'Tools', 'August 7, 2018', '6.06.14', '4.4 and up']\n"
     ]
    }
   ],
   "source": [
    "print(android_data[10473])"
   ]
  },
  {
   "cell_type": "code",
   "execution_count": 3,
   "id": "e41dfe99",
   "metadata": {},
   "outputs": [],
   "source": [
    "del android_data[10472]"
   ]
  },
  {
   "cell_type": "markdown",
   "id": "4eaff246",
   "metadata": {},
   "source": [
    "Let me show you an exemple of multiple entries:"
   ]
  },
  {
   "cell_type": "code",
   "execution_count": 11,
   "id": "3f1c35ea",
   "metadata": {},
   "outputs": [
    {
     "name": "stdout",
     "output_type": "stream",
     "text": [
      "Amount of unique apps 9660\n",
      "Amount of duplicate entries: 1181\n"
     ]
    }
   ],
   "source": [
    "unique_app_names = []\n",
    "duplicate_app_names = {}\n",
    "\n",
    "for app in android_data:\n",
    "    app_name = app[0]\n",
    "    if not app_name in unique_app_names:\n",
    "        unique_app_names.append(app_name)\n",
    "    elif not app_name in duplicate_app_names:\n",
    "        duplicate_app_names[app_name] = 1\n",
    "    else:\n",
    "        duplicate_app_names[app_name] += 1\n",
    "unique_app_amount = len(unique_app_names)\n",
    "total_app_amount = len(android_data)\n",
    "\n",
    "print(\"Amount of unique apps \" + str(unique_app_amount))\n",
    "print(\"Amount of duplicate entries: \" + str(total_app_amount - unique_app_amount))\n"
   ]
  },
  {
   "cell_type": "markdown",
   "id": "80071c8b",
   "metadata": {},
   "source": [
    "To remove the duplicate entries, we are going to consider which entry has the most reviews and delete the rest. The reason for that is the entry with most reviews is likely to be the most recent one."
   ]
  },
  {
   "cell_type": "code",
   "execution_count": 9,
   "id": "dbdb14d8",
   "metadata": {},
   "outputs": [
    {
     "name": "stdout",
     "output_type": "stream",
     "text": [
      "9659\n"
     ]
    }
   ],
   "source": [
    "reviews_max = {}\n",
    "\n",
    "for app in android_data:\n",
    "    name = app[0]\n",
    "    n_reviews = float(app[3])\n",
    "    if (name in reviews_max) and (reviews_max[name] < n_reviews):\n",
    "        reviews_max[name] = n_reviews\n",
    "    elif name not in reviews_max:\n",
    "        reviews_max[name] = n_reviews\n",
    "        \n",
    "print(len(reviews_max))    "
   ]
  },
  {
   "cell_type": "code",
   "execution_count": 11,
   "id": "4b94e7cd",
   "metadata": {},
   "outputs": [
    {
     "name": "stdout",
     "output_type": "stream",
     "text": [
      "[['Photo Editor & Candy Camera & Grid & ScrapBook', 'ART_AND_DESIGN', '4.1', '159', '19M', '10,000+', 'Free', '0', 'Everyone', 'Art & Design', 'January 7, 2018', '1.0.0', '4.0.3 and up'], ['U Launcher Lite – FREE Live Cool Themes, Hide Apps', 'ART_AND_DESIGN', '4.7', '87510', '8.7M', '5,000,000+', 'Free', '0', 'Everyone', 'Art & Design', 'August 1, 2018', '1.2.4', '4.0.3 and up'], ['Sketch - Draw & Paint', 'ART_AND_DESIGN', '4.5', '215644', '25M', '50,000,000+', 'Free', '0', 'Teen', 'Art & Design', 'June 8, 2018', 'Varies with device', '4.2 and up'], ['Pixel Draw - Number Art Coloring Book', 'ART_AND_DESIGN', '4.3', '967', '2.8M', '100,000+', 'Free', '0', 'Everyone', 'Art & Design;Creativity', 'June 20, 2018', '1.1', '4.4 and up'], ['Paper flowers instructions', 'ART_AND_DESIGN', '4.4', '167', '5.6M', '50,000+', 'Free', '0', 'Everyone', 'Art & Design', 'March 26, 2017', '1.0', '2.3 and up']]\n"
     ]
    }
   ],
   "source": [
    "android_clean = []\n",
    "already_added = []\n",
    "\n",
    "for app in android_data:\n",
    "    name = app[0]\n",
    "    n_reviews = float(app[3])\n",
    "    \n",
    "    if n_reviews == reviews_max[name] and name not in already_added:\n",
    "        android_clean.append(app)\n",
    "        already_added.append(name)\n",
    "        \n",
    "print(android_clean[:5])"
   ]
  },
  {
   "cell_type": "markdown",
   "id": "ceb5a6cb",
   "metadata": {},
   "source": [
    "We are interested in apps for english speaking users, so we are going to exclude apps that have non-english characters in their names such as '爱'"
   ]
  },
  {
   "cell_type": "code",
   "execution_count": 16,
   "id": "d435a093",
   "metadata": {},
   "outputs": [
    {
     "name": "stdout",
     "output_type": "stream",
     "text": [
      "True\n",
      "False\n",
      "False\n",
      "False\n"
     ]
    }
   ],
   "source": [
    "def is_english_name(name):\n",
    "    excentric_characters = 0\n",
    "    for character in name:\n",
    "        if ord(character) > 127:\n",
    "            return False\n",
    "    return True\n",
    "\n",
    "#testing function\n",
    "print(is_english_name('Instagram'))\n",
    "print(is_english_name('爱奇艺PPS -《欢乐颂2》视剧热播'))\n",
    "print(is_english_name('Docs To Go™ Free Office Suite'))\n",
    "print(is_english_name('Instachat 😜'))"
   ]
  },
  {
   "cell_type": "markdown",
   "id": "cebfd728",
   "metadata": {},
   "source": [
    "Above we identified that some english titles didn't pass our test because they have a character greater than 127. A way to minimize this is to tolerate at most 3 characters greater than 127."
   ]
  },
  {
   "cell_type": "code",
   "execution_count": 17,
   "id": "a3f598a0",
   "metadata": {},
   "outputs": [
    {
     "name": "stdout",
     "output_type": "stream",
     "text": [
      "True\n",
      "False\n",
      "True\n",
      "True\n"
     ]
    }
   ],
   "source": [
    "def is_english_name(name):\n",
    "    excentric_characters = 0\n",
    "    for character in name:\n",
    "        if ord(character) > 127:\n",
    "            excentric_characters += 1\n",
    "    if excentric_characters > 2:\n",
    "        return False\n",
    "    return True\n",
    "\n",
    "#testing function\n",
    "print(is_english_name('Instagram'))\n",
    "print(is_english_name('爱奇艺PPS -《欢乐颂2》视剧热播'))\n",
    "print(is_english_name('Docs To Go™ Free Office Suite'))\n",
    "print(is_english_name('Instachat 😜'))"
   ]
  },
  {
   "cell_type": "markdown",
   "id": "d6b4a373",
   "metadata": {},
   "source": [
    "Now that we have a satisfactory filter for non-english apps, let's filter our datasets."
   ]
  },
  {
   "cell_type": "code",
   "execution_count": 23,
   "id": "82ca465b",
   "metadata": {},
   "outputs": [
    {
     "name": "stdout",
     "output_type": "stream",
     "text": [
      "9597\n",
      "6155\n"
     ]
    }
   ],
   "source": [
    "android_cleaner = []\n",
    "ios_clean = []\n",
    "\n",
    "for app in android_clean:\n",
    "    name = app[0]\n",
    "    if is_english_name(name):\n",
    "        android_cleaner.append(app)\n",
    "        \n",
    "print(len(android_cleaner))\n",
    "\n",
    "for app in ios_data:\n",
    "    name = app[1]\n",
    "    if is_english_name(name):\n",
    "        ios_clean.append(app)\n",
    "\n",
    "print(len(ios_clean))"
   ]
  },
  {
   "cell_type": "markdown",
   "id": "0ebeb560",
   "metadata": {},
   "source": [
    "Since we are interested in analysing the free apps, we are going to filter out the paid apps"
   ]
  },
  {
   "cell_type": "code",
   "execution_count": 30,
   "id": "a9a35ffb",
   "metadata": {},
   "outputs": [
    {
     "name": "stdout",
     "output_type": "stream",
     "text": [
      "8847\n",
      "3203\n"
     ]
    }
   ],
   "source": [
    "android_free = []\n",
    "ios_free = []\n",
    "\n",
    "for app in android_cleaner:\n",
    "    price = app[6]\n",
    "    if price == 'Free':\n",
    "        android_free.append(app)\n",
    "        \n",
    "print(len(android_free))\n",
    "\n",
    "for app in ios_clean:\n",
    "    price = app[4]\n",
    "    if price == '0.0':\n",
    "        ios_free.append(app)\n",
    "\n",
    "print(len(ios_free))"
   ]
  },
  {
   "cell_type": "markdown",
   "id": "d9fd4ed0",
   "metadata": {},
   "source": [
    "To validade our app idea, we want to find a genre in both ios and android that attract the most users."
   ]
  },
  {
   "cell_type": "code",
   "execution_count": 36,
   "id": "dcae4106",
   "metadata": {},
   "outputs": [
    {
     "name": "stdout",
     "output_type": "stream",
     "text": [
      "Games : 58.26\n",
      "Entertainment : 7.84\n",
      "Photo & Video : 5.0\n",
      "Education : 3.68\n",
      "Social Networking : 3.31\n",
      "Shopping : 2.59\n",
      "Utilities : 2.47\n",
      "Sports : 2.15\n",
      "Music : 2.06\n",
      "Health & Fitness : 2.03\n",
      "Productivity : 1.75\n",
      "Lifestyle : 1.56\n",
      "News : 1.34\n",
      "Travel : 1.25\n",
      "Finance : 1.09\n",
      "Weather : 0.87\n",
      "Food & Drink : 0.81\n",
      "Reference : 0.53\n",
      "Business : 0.53\n",
      "Book : 0.37\n",
      "Navigation : 0.19\n",
      "Medical : 0.19\n",
      "Catalogs : 0.12\n"
     ]
    }
   ],
   "source": [
    "def display_table(dataset, index):\n",
    "    table = freq_table(dataset, index)\n",
    "    table_display = []\n",
    "    for key in table:\n",
    "        key_val_as_tuple = (table[key], key)\n",
    "        table_display.append(key_val_as_tuple)\n",
    "\n",
    "    table_sorted = sorted(table_display, reverse = True)\n",
    "    for entry in table_sorted:\n",
    "        print(entry[1], ':', entry[0])\n",
    "        \n",
    "def freq_table(dataset, index):\n",
    "    frequency = {}\n",
    "    for row in dataset:\n",
    "        column_data = row[index]\n",
    "        if column_data in frequency:\n",
    "            frequency[column_data] += 1\n",
    "        else:\n",
    "            frequency[column_data] = 1\n",
    "    for genre in frequency:\n",
    "        frequency[genre] = round((frequency[genre]/len(dataset)) * 100, 2)\n",
    "    return frequency\n",
    "\n",
    "\n",
    "display_table(ios_free, 11)"
   ]
  },
  {
   "cell_type": "code",
   "execution_count": 38,
   "id": "1d0785c8",
   "metadata": {},
   "outputs": [
    {
     "name": "stdout",
     "output_type": "stream",
     "text": [
      "FAMILY : 18.93\n",
      "GAME : 9.7\n",
      "TOOLS : 8.45\n",
      "BUSINESS : 4.6\n",
      "PRODUCTIVITY : 3.9\n",
      "LIFESTYLE : 3.89\n",
      "FINANCE : 3.71\n",
      "MEDICAL : 3.54\n",
      "SPORTS : 3.39\n",
      "PERSONALIZATION : 3.32\n",
      "COMMUNICATION : 3.23\n",
      "HEALTH_AND_FITNESS : 3.09\n",
      "PHOTOGRAPHY : 2.95\n",
      "NEWS_AND_MAGAZINES : 2.8\n",
      "SOCIAL : 2.67\n",
      "TRAVEL_AND_LOCAL : 2.34\n",
      "SHOPPING : 2.25\n",
      "BOOKS_AND_REFERENCE : 2.14\n",
      "DATING : 1.87\n",
      "VIDEO_PLAYERS : 1.8\n",
      "MAPS_AND_NAVIGATION : 1.39\n",
      "FOOD_AND_DRINK : 1.24\n",
      "EDUCATION : 1.16\n",
      "ENTERTAINMENT : 0.96\n",
      "LIBRARIES_AND_DEMO : 0.94\n",
      "AUTO_AND_VEHICLES : 0.93\n",
      "HOUSE_AND_HOME : 0.8\n",
      "WEATHER : 0.79\n",
      "EVENTS : 0.71\n",
      "PARENTING : 0.66\n",
      "ART_AND_DESIGN : 0.64\n",
      "COMICS : 0.61\n",
      "BEAUTY : 0.6\n",
      "\n",
      "\n",
      "Tools : 8.44\n",
      "Entertainment : 6.08\n",
      "Education : 5.36\n",
      "Business : 4.6\n",
      "Productivity : 3.9\n",
      "Lifestyle : 3.88\n",
      "Finance : 3.71\n",
      "Medical : 3.54\n",
      "Sports : 3.46\n",
      "Personalization : 3.32\n",
      "Communication : 3.23\n",
      "Action : 3.1\n",
      "Health & Fitness : 3.09\n",
      "Photography : 2.95\n",
      "News & Magazines : 2.8\n",
      "Social : 2.67\n",
      "Travel & Local : 2.33\n",
      "Shopping : 2.25\n",
      "Books & Reference : 2.14\n",
      "Simulation : 2.05\n",
      "Dating : 1.87\n",
      "Arcade : 1.84\n",
      "Video Players & Editors : 1.77\n",
      "Casual : 1.76\n",
      "Maps & Navigation : 1.39\n",
      "Food & Drink : 1.24\n",
      "Puzzle : 1.13\n",
      "Racing : 0.99\n",
      "Role Playing : 0.94\n",
      "Libraries & Demo : 0.94\n",
      "Auto & Vehicles : 0.93\n",
      "Strategy : 0.9\n",
      "House & Home : 0.8\n",
      "Weather : 0.79\n",
      "Events : 0.71\n",
      "Adventure : 0.67\n",
      "Comics : 0.6\n",
      "Beauty : 0.6\n",
      "Art & Design : 0.6\n",
      "Parenting : 0.5\n",
      "Card : 0.45\n",
      "Trivia : 0.42\n",
      "Casino : 0.42\n",
      "Educational;Education : 0.4\n",
      "Board : 0.38\n",
      "Educational : 0.37\n",
      "Education;Education : 0.34\n",
      "Word : 0.26\n",
      "Casual;Pretend Play : 0.24\n",
      "Music : 0.2\n",
      "Racing;Action & Adventure : 0.17\n",
      "Puzzle;Brain Games : 0.17\n",
      "Entertainment;Music & Video : 0.17\n",
      "Casual;Brain Games : 0.14\n",
      "Casual;Action & Adventure : 0.14\n",
      "Arcade;Action & Adventure : 0.12\n",
      "Action;Action & Adventure : 0.1\n",
      "Educational;Pretend Play : 0.09\n",
      "Simulation;Action & Adventure : 0.08\n",
      "Parenting;Education : 0.08\n",
      "Entertainment;Brain Games : 0.08\n",
      "Board;Brain Games : 0.08\n",
      "Parenting;Music & Video : 0.07\n",
      "Educational;Brain Games : 0.07\n",
      "Casual;Creativity : 0.07\n",
      "Art & Design;Creativity : 0.07\n",
      "Education;Pretend Play : 0.06\n",
      "Role Playing;Pretend Play : 0.05\n",
      "Education;Creativity : 0.05\n",
      "Role Playing;Action & Adventure : 0.03\n",
      "Puzzle;Action & Adventure : 0.03\n",
      "Entertainment;Creativity : 0.03\n",
      "Entertainment;Action & Adventure : 0.03\n",
      "Educational;Creativity : 0.03\n",
      "Educational;Action & Adventure : 0.03\n",
      "Education;Music & Video : 0.03\n",
      "Education;Brain Games : 0.03\n",
      "Education;Action & Adventure : 0.03\n",
      "Adventure;Action & Adventure : 0.03\n",
      "Video Players & Editors;Music & Video : 0.02\n",
      "Sports;Action & Adventure : 0.02\n",
      "Simulation;Pretend Play : 0.02\n",
      "Puzzle;Creativity : 0.02\n",
      "Music;Music & Video : 0.02\n",
      "Entertainment;Pretend Play : 0.02\n",
      "Casual;Education : 0.02\n",
      "Board;Action & Adventure : 0.02\n",
      "Video Players & Editors;Creativity : 0.01\n",
      "Trivia;Education : 0.01\n",
      "Travel & Local;Action & Adventure : 0.01\n",
      "Tools;Education : 0.01\n",
      "Strategy;Education : 0.01\n",
      "Strategy;Creativity : 0.01\n",
      "Strategy;Action & Adventure : 0.01\n",
      "Simulation;Education : 0.01\n",
      "Role Playing;Brain Games : 0.01\n",
      "Racing;Pretend Play : 0.01\n",
      "Puzzle;Education : 0.01\n",
      "Parenting;Brain Games : 0.01\n",
      "Music & Audio;Music & Video : 0.01\n",
      "Lifestyle;Pretend Play : 0.01\n",
      "Lifestyle;Education : 0.01\n",
      "Health & Fitness;Education : 0.01\n",
      "Health & Fitness;Action & Adventure : 0.01\n",
      "Entertainment;Education : 0.01\n",
      "Communication;Creativity : 0.01\n",
      "Comics;Creativity : 0.01\n",
      "Casual;Music & Video : 0.01\n",
      "Card;Action & Adventure : 0.01\n",
      "Books & Reference;Education : 0.01\n",
      "Art & Design;Pretend Play : 0.01\n",
      "Art & Design;Action & Adventure : 0.01\n",
      "Arcade;Pretend Play : 0.01\n",
      "Adventure;Education : 0.01\n"
     ]
    }
   ],
   "source": [
    "display_table(android_free, 1)\n",
    "print('\\n')\n",
    "display_table(android_free, 9)"
   ]
  },
  {
   "cell_type": "code",
   "execution_count": 42,
   "id": "dc4834d1",
   "metadata": {},
   "outputs": [
    {
     "name": "stdout",
     "output_type": "stream",
     "text": [
      "App genre: Social Networking Average rating: 71548.35\n",
      "App genre: Photo & Video Average rating: 28441.54\n",
      "App genre: Games Average rating: 22886.37\n",
      "App genre: Music Average rating: 57326.53\n",
      "App genre: Reference Average rating: 79350.47\n",
      "App genre: Health & Fitness Average rating: 23298.02\n",
      "App genre: Weather Average rating: 52279.89\n",
      "App genre: Utilities Average rating: 19156.49\n",
      "App genre: Travel Average rating: 28243.8\n",
      "App genre: Shopping Average rating: 27230.73\n",
      "App genre: News Average rating: 21248.02\n",
      "App genre: Navigation Average rating: 86090.33\n",
      "App genre: Lifestyle Average rating: 16815.48\n",
      "App genre: Entertainment Average rating: 14195.36\n",
      "App genre: Food & Drink Average rating: 33333.92\n",
      "App genre: Sports Average rating: 23008.9\n",
      "App genre: Book Average rating: 46384.92\n",
      "App genre: Finance Average rating: 32367.03\n",
      "App genre: Education Average rating: 7003.98\n",
      "App genre: Productivity Average rating: 21028.41\n",
      "App genre: Business Average rating: 7491.12\n",
      "App genre: Catalogs Average rating: 4004.0\n",
      "App genre: Medical Average rating: 612.0\n"
     ]
    }
   ],
   "source": [
    "prime_genre_freq = freq_table(ios_free, 11)\n",
    "\n",
    "for genre in prime_genre_freq:\n",
    "    total = 0\n",
    "    len_genre = 0\n",
    "    for row in ios_free:\n",
    "        genre_app = row[11]\n",
    "        if genre_app == genre:\n",
    "            user_rating_total = float(row[5])\n",
    "            total += user_rating_total\n",
    "            len_genre += 1\n",
    "    average = total/len_genre\n",
    "    print(\"App genre: \" + str(genre) + \" Average rating: \" + str(round(average, 2)))\n",
    "            "
   ]
  },
  {
   "cell_type": "code",
   "execution_count": 45,
   "id": "956a1114",
   "metadata": {},
   "outputs": [
    {
     "name": "stdout",
     "output_type": "stream",
     "text": [
      "App genre: ART_AND_DESIGN Average rating: 1986335.09\n",
      "App genre: AUTO_AND_VEHICLES Average rating: 647317.82\n",
      "App genre: BEAUTY Average rating: 513151.89\n",
      "App genre: BOOKS_AND_REFERENCE Average rating: 8814199.79\n",
      "App genre: BUSINESS Average rating: 1712290.15\n",
      "App genre: COMICS Average rating: 832613.89\n",
      "App genre: COMMUNICATION Average rating: 38590581.09\n",
      "App genre: DATING Average rating: 854028.83\n",
      "App genre: EDUCATION Average rating: 1833495.15\n",
      "App genre: ENTERTAINMENT Average rating: 11640705.88\n",
      "App genre: EVENTS Average rating: 253542.22\n",
      "App genre: FINANCE Average rating: 1387692.48\n",
      "App genre: FOOD_AND_DRINK Average rating: 1924897.74\n",
      "App genre: HEALTH_AND_FITNESS Average rating: 4188821.99\n",
      "App genre: HOUSE_AND_HOME Average rating: 1360598.04\n",
      "App genre: LIBRARIES_AND_DEMO Average rating: 638503.73\n",
      "App genre: LIFESTYLE Average rating: 1446158.22\n",
      "App genre: GAME Average rating: 15544014.51\n",
      "App genre: FAMILY Average rating: 3697848.17\n",
      "App genre: MEDICAL Average rating: 120550.62\n",
      "App genre: SOCIAL Average rating: 23253652.13\n",
      "App genre: SHOPPING Average rating: 7036877.31\n",
      "App genre: PHOTOGRAPHY Average rating: 17840110.4\n",
      "App genre: SPORTS Average rating: 3650602.28\n",
      "App genre: TRAVEL_AND_LOCAL Average rating: 13984077.71\n",
      "App genre: TOOLS Average rating: 10830251.97\n",
      "App genre: PERSONALIZATION Average rating: 5201482.61\n",
      "App genre: PRODUCTIVITY Average rating: 16787331.34\n",
      "App genre: PARENTING Average rating: 542603.62\n",
      "App genre: WEATHER Average rating: 5145550.29\n",
      "App genre: VIDEO_PLAYERS Average rating: 24727872.45\n",
      "App genre: NEWS_AND_MAGAZINES Average rating: 9549178.47\n",
      "App genre: MAPS_AND_NAVIGATION Average rating: 4049274.63\n"
     ]
    }
   ],
   "source": [
    "genre_freq = freq_table(android_free, 1)\n",
    "\n",
    "for category in genre_freq:\n",
    "    total = 0\n",
    "    len_category = 0 \n",
    "    for row in android_free:\n",
    "        category_app = row[1]\n",
    "        if category_app == category:\n",
    "            installs = row[5]\n",
    "            clean_installs = float(installs.replace('+','').replace(',',''))\n",
    "            total += clean_installs\n",
    "            len_category += 1\n",
    "            \n",
    "    average_android = total/len_category\n",
    "    print(\"App genre: \" + str(category) + \" Average rating: \" + str(round(average_android, 2)))"
   ]
  }
 ],
 "metadata": {
  "kernelspec": {
   "display_name": "Python 3 (ipykernel)",
   "language": "python",
   "name": "python3"
  },
  "language_info": {
   "codemirror_mode": {
    "name": "ipython",
    "version": 3
   },
   "file_extension": ".py",
   "mimetype": "text/x-python",
   "name": "python",
   "nbconvert_exporter": "python",
   "pygments_lexer": "ipython3",
   "version": "3.9.12"
  }
 },
 "nbformat": 4,
 "nbformat_minor": 5
}
